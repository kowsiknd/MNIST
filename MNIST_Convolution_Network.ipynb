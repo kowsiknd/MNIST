{
  "nbformat": 4,
  "nbformat_minor": 0,
  "metadata": {
    "colab": {
      "name": "MNIST - Convolution Network.ipynb",
      "provenance": [],
      "authorship_tag": "ABX9TyM8sOXDQcYv0NgumzmnGomk",
      "include_colab_link": true
    },
    "kernelspec": {
      "name": "python3",
      "display_name": "Python 3"
    },
    "language_info": {
      "name": "python"
    },
    "accelerator": "GPU"
  },
  "cells": [
    {
      "cell_type": "markdown",
      "metadata": {
        "id": "view-in-github",
        "colab_type": "text"
      },
      "source": [
        "<a href=\"https://colab.research.google.com/github/kowsiknd/MNIST/blob/main/MNIST_Convolution_Network.ipynb\" target=\"_parent\"><img src=\"https://colab.research.google.com/assets/colab-badge.svg\" alt=\"Open In Colab\"/></a>"
      ]
    },
    {
      "cell_type": "code",
      "metadata": {
        "id": "IoRghVanaB3C"
      },
      "source": [
        "import tensorflow as tf\n",
        "import tensorflow.keras as keras\n",
        "from tensorflow.keras import layers, regularizers\n",
        "\n",
        "import matplotlib.pyplot as plt\n",
        "%matplotlib inline"
      ],
      "execution_count": 1,
      "outputs": []
    },
    {
      "cell_type": "code",
      "metadata": {
        "colab": {
          "base_uri": "https://localhost:8080/",
          "height": 35
        },
        "id": "Vpib7zywvrPu",
        "outputId": "76a7c488-0e0d-468a-e77a-18568611415a"
      },
      "source": [
        "tf.__version__"
      ],
      "execution_count": 2,
      "outputs": [
        {
          "output_type": "execute_result",
          "data": {
            "application/vnd.google.colaboratory.intrinsic+json": {
              "type": "string"
            },
            "text/plain": [
              "'2.6.0'"
            ]
          },
          "metadata": {},
          "execution_count": 2
        }
      ]
    },
    {
      "cell_type": "code",
      "metadata": {
        "id": "ym7q3HFzvtpm"
      },
      "source": [
        "from tensorflow.keras.datasets import mnist"
      ],
      "execution_count": 3,
      "outputs": []
    },
    {
      "cell_type": "code",
      "metadata": {
        "id": "EpT1kh1bv0w0"
      },
      "source": [
        "(x_train, y_train), (x_test, y_test) = mnist.load_data()\n",
        "x_train = x_train.astype(\"float32\") / 255.0\n",
        "x_test = x_test.astype(\"float32\") / 255.0"
      ],
      "execution_count": 4,
      "outputs": []
    },
    {
      "cell_type": "code",
      "metadata": {
        "id": "XppK7-GXv9Ns"
      },
      "source": [
        "from sklearn.model_selection import train_test_split\n",
        "validation_split_ratio = 0.20"
      ],
      "execution_count": 5,
      "outputs": []
    },
    {
      "cell_type": "code",
      "metadata": {
        "id": "bTlxLfDFwuu1"
      },
      "source": [
        "x_train, x_val, y_train, y_val = train_test_split(x_train, y_train, test_size=validation_split_ratio, random_state=42)"
      ],
      "execution_count": 21,
      "outputs": []
    },
    {
      "cell_type": "markdown",
      "metadata": {
        "id": "hF3T3tbKxLVL"
      },
      "source": [
        "Model Creation"
      ]
    },
    {
      "cell_type": "code",
      "metadata": {
        "id": "y2tJIVFlxFOO"
      },
      "source": [
        "class CNNBlock(layers.Layer):\n",
        "  def __init__(self, output_channels, kernel_size=3):\n",
        "    super(CNNBlock, self).__init__()\n",
        "    self.conv = layers.Conv2D(\n",
        "        output_channels,\n",
        "        kernel_size=kernel_size,\n",
        "        padding=\"same\"\n",
        "    )\n",
        "    self.norm = layers.BatchNormalization()\n",
        "\n",
        "  def call(self, input_tensor, training=False):\n",
        "    x = self.conv(input_tensor)\n",
        "    x = self.norm(x)\n",
        "    output = tf.nn.relu(x)\n",
        "    return output\n"
      ],
      "execution_count": 22,
      "outputs": []
    },
    {
      "cell_type": "code",
      "metadata": {
        "id": "I2lRPApYz2RF"
      },
      "source": [
        "input_shape = x_train.shape"
      ],
      "execution_count": 33,
      "outputs": []
    },
    {
      "cell_type": "code",
      "metadata": {
        "id": "JJY3pSG8zBo3"
      },
      "source": [
        "model = keras.Sequential(\n",
        "    [\n",
        "     keras.Input(shape=(input_shape[1], input_shape[2], 1)),\n",
        "     CNNBlock(32),\n",
        "     CNNBlock(64),\n",
        "     CNNBlock(128),\n",
        "     layers.Flatten(),\n",
        "     layers.Dense(10)\n",
        "    ]\n",
        ")"
      ],
      "execution_count": 34,
      "outputs": []
    },
    {
      "cell_type": "code",
      "metadata": {
        "colab": {
          "base_uri": "https://localhost:8080/"
        },
        "id": "JeLK4DmDztrW",
        "outputId": "9e6c3bed-a83c-45d5-89db-77d349980cd9"
      },
      "source": [
        "model.summary()"
      ],
      "execution_count": 35,
      "outputs": [
        {
          "output_type": "stream",
          "name": "stdout",
          "text": [
            "Model: \"sequential_3\"\n",
            "_________________________________________________________________\n",
            "Layer (type)                 Output Shape              Param #   \n",
            "=================================================================\n",
            "cnn_block_9 (CNNBlock)       (None, 28, 28, 32)        448       \n",
            "_________________________________________________________________\n",
            "cnn_block_10 (CNNBlock)      (None, 28, 28, 64)        18752     \n",
            "_________________________________________________________________\n",
            "cnn_block_11 (CNNBlock)      (None, 28, 28, 128)       74368     \n",
            "_________________________________________________________________\n",
            "flatten_3 (Flatten)          (None, 100352)            0         \n",
            "_________________________________________________________________\n",
            "dense_3 (Dense)              (None, 10)                1003530   \n",
            "=================================================================\n",
            "Total params: 1,097,098\n",
            "Trainable params: 1,096,650\n",
            "Non-trainable params: 448\n",
            "_________________________________________________________________\n"
          ]
        }
      ]
    },
    {
      "cell_type": "code",
      "metadata": {
        "id": "tUlgNFa6zvyf"
      },
      "source": [
        "model.compile(\n",
        "    loss=keras.losses.SparseCategoricalCrossentropy(from_logits=True),\n",
        "    optimizer=keras.optimizers.Adam(learning_rate=0.001),\n",
        "    metrics=[\"accuracy\"]\n",
        ")"
      ],
      "execution_count": 36,
      "outputs": []
    },
    {
      "cell_type": "code",
      "metadata": {
        "colab": {
          "base_uri": "https://localhost:8080/"
        },
        "id": "zsitLrpv20-j",
        "outputId": "711e5278-07f3-4fab-9cd8-e2d75718bbd1"
      },
      "source": [
        "print(\"Num GPUs Available: \", len(tf.config.list_physical_devices('GPU')))"
      ],
      "execution_count": 37,
      "outputs": [
        {
          "output_type": "stream",
          "name": "stdout",
          "text": [
            "Num GPUs Available:  1\n"
          ]
        }
      ]
    },
    {
      "cell_type": "code",
      "metadata": {
        "colab": {
          "base_uri": "https://localhost:8080/"
        },
        "id": "yXN4mnMV3QE4",
        "outputId": "534fd00e-1fde-41fe-a95c-dc2586021839"
      },
      "source": [
        "print(x_val.shape, y_val.shape)\n",
        "print(x_train.shape, y_train.shape)"
      ],
      "execution_count": 38,
      "outputs": [
        {
          "output_type": "stream",
          "name": "stdout",
          "text": [
            "(12000, 28, 28) (12000,)\n",
            "(48000, 28, 28) (48000,)\n"
          ]
        }
      ]
    },
    {
      "cell_type": "code",
      "metadata": {
        "colab": {
          "base_uri": "https://localhost:8080/"
        },
        "id": "KO9C4gG01qtd",
        "outputId": "e7a00d9d-b3e0-4ba7-988c-9865c9c32ff8"
      },
      "source": [
        "history = model.fit(\n",
        "    x_train,\n",
        "    y_train,\n",
        "    batch_size=32,\n",
        "    epochs=10,\n",
        "    verbose=2,\n",
        "    validation_data = (x_val, y_val),\n",
        "    shuffle=True\n",
        ")"
      ],
      "execution_count": 39,
      "outputs": [
        {
          "output_type": "stream",
          "name": "stdout",
          "text": [
            "Epoch 1/10\n",
            "1500/1500 - 55s - loss: 0.6304 - accuracy: 0.9448 - val_loss: 0.0764 - val_accuracy: 0.9818\n",
            "Epoch 2/10\n",
            "1500/1500 - 26s - loss: 0.0562 - accuracy: 0.9842 - val_loss: 0.0772 - val_accuracy: 0.9774\n",
            "Epoch 3/10\n",
            "1500/1500 - 26s - loss: 0.0419 - accuracy: 0.9862 - val_loss: 0.0675 - val_accuracy: 0.9801\n",
            "Epoch 4/10\n",
            "1500/1500 - 25s - loss: 0.0373 - accuracy: 0.9884 - val_loss: 0.0484 - val_accuracy: 0.9856\n",
            "Epoch 5/10\n",
            "1500/1500 - 25s - loss: 0.0288 - accuracy: 0.9909 - val_loss: 0.0776 - val_accuracy: 0.9810\n",
            "Epoch 6/10\n",
            "1500/1500 - 25s - loss: 0.0242 - accuracy: 0.9923 - val_loss: 0.0541 - val_accuracy: 0.9850\n",
            "Epoch 7/10\n",
            "1500/1500 - 26s - loss: 0.0152 - accuracy: 0.9946 - val_loss: 0.0661 - val_accuracy: 0.9857\n",
            "Epoch 8/10\n",
            "1500/1500 - 26s - loss: 0.0127 - accuracy: 0.9958 - val_loss: 0.0569 - val_accuracy: 0.9864\n",
            "Epoch 9/10\n",
            "1500/1500 - 26s - loss: 0.0094 - accuracy: 0.9969 - val_loss: 0.0496 - val_accuracy: 0.9893\n",
            "Epoch 10/10\n",
            "1500/1500 - 25s - loss: 0.0080 - accuracy: 0.9975 - val_loss: 0.0593 - val_accuracy: 0.9868\n"
          ]
        }
      ]
    },
    {
      "cell_type": "code",
      "metadata": {
        "colab": {
          "base_uri": "https://localhost:8080/"
        },
        "id": "XmxkdlXj4FU2",
        "outputId": "76482a94-7f6b-4720-84c8-8f74783bb73a"
      },
      "source": [
        "model.evaluate(x_test, y_test, batch_size=64, verbose=2)\n",
        "model.save(\"pretrained\")"
      ],
      "execution_count": 40,
      "outputs": [
        {
          "output_type": "stream",
          "name": "stdout",
          "text": [
            "157/157 - 1s - loss: 0.0601 - accuracy: 0.9870\n"
          ]
        },
        {
          "output_type": "stream",
          "name": "stderr",
          "text": [
            "WARNING:absl:Found untraced functions such as conv2d_9_layer_call_fn, conv2d_9_layer_call_and_return_conditional_losses, conv2d_10_layer_call_fn, conv2d_10_layer_call_and_return_conditional_losses, conv2d_11_layer_call_fn while saving (showing 5 of 15). These functions will not be directly callable after loading.\n"
          ]
        },
        {
          "output_type": "stream",
          "name": "stdout",
          "text": [
            "INFO:tensorflow:Assets written to: pretrained/assets\n"
          ]
        },
        {
          "output_type": "stream",
          "name": "stderr",
          "text": [
            "INFO:tensorflow:Assets written to: pretrained/assets\n"
          ]
        }
      ]
    },
    {
      "cell_type": "code",
      "metadata": {
        "id": "1v0stTLd7o94"
      },
      "source": [
        "y_pred = model.predict(x_test)\n",
        "img = x_test[1]\n",
        "plt.imshow(img.reshape(28, 28))\n",
        "y_pred[1]"
      ],
      "execution_count": null,
      "outputs": []
    },
    {
      "cell_type": "code",
      "metadata": {
        "id": "WixHSNYs9gah"
      },
      "source": [
        "y_pred_value = tf.argmax(y_pred, axis=1)"
      ],
      "execution_count": 42,
      "outputs": []
    },
    {
      "cell_type": "code",
      "metadata": {
        "id": "FtN64dWz9rF7"
      },
      "source": [
        "for i in range(y_pred_value.shape[0]):\n",
        "  if y_pred_value[i] != y_test[i]:\n",
        "    img = x_test[i]\n",
        "    print(\"Actual: {}, Predicted: {}\".format(y_test[i], y_pred_value[i]))\n",
        "    plt.imshow(img.reshape(28, 28))\n",
        "    plt.show()"
      ],
      "execution_count": null,
      "outputs": []
    },
    {
      "cell_type": "code",
      "metadata": {
        "id": "QKw5OReg9tnV"
      },
      "source": [
        ""
      ],
      "execution_count": null,
      "outputs": []
    }
  ]
}